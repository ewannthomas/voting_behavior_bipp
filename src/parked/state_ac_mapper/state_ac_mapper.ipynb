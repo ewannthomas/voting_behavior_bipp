{
 "cells": [
  {
   "cell_type": "markdown",
   "metadata": {},
   "source": [
    "# State level Assembly Constituency Mapper"
   ]
  },
  {
   "cell_type": "markdown",
   "metadata": {},
   "source": [
    "This notebook maps each state's master list details to the attribute table of asn AC shapefile, which will then enable the user to create state level AC identifier maps. These maps, would then inherit the features present in the masterlist and will provide a concise undertsanding of the current stage of data availability, presence of missing constitutencies, presenc eof image file for certain constituencies etc. This exercise is an intermediate priocess to assess the data generation process and its progress. This notebook doesn't serve to provide any data wrangling abilities or wrnagle any existing raw or interim data files.\n"
   ]
  },
  {
   "cell_type": "code",
   "execution_count": 8,
   "metadata": {},
   "outputs": [],
   "source": [
    "#importing necessary libraries\n",
    "import pandas as pd\n",
    "from pathlib import Path\n",
    "from fuzzywuzzy import process"
   ]
  },
  {
   "cell_type": "code",
   "execution_count": 25,
   "metadata": {},
   "outputs": [],
   "source": [
    "#defining directories\n",
    "def dir_define(state:str):\n",
    "    master_file_name=\"_\".join([state,\"masterlist.xlsx\"])\n",
    "    attr_file_name=\"_\".join([state,\"attr_table.csv\"])\n",
    "    dir_path=Path.cwd().parents[1]\n",
    "    masterlist_path=dir_path.joinpath(f\"data_docs/golden_states_masterlist/{master_file_name}\")\n",
    "    attr_table_path=dir_path.joinpath(f\"data/external/attribute_tables/{attr_file_name}\")\n",
    "\n",
    "    mapped_attr_folder=dir_path.joinpath(f\"data/interim/ac_mapped/{state}\")\n",
    "\n",
    "    if not mapped_attr_folder.exists():\n",
    "        mapped_attr_folder.mkdir(parents=True)\n",
    "\n",
    "    return masterlist_path, attr_table_path, mapped_attr_folder\n",
    "\n",
    "\n"
   ]
  },
  {
   "cell_type": "code",
   "execution_count": 47,
   "metadata": {},
   "outputs": [],
   "source": [
    "def master_reader(state:str):\n",
    "\n",
    "    masterlist_path=dir_define(state=state)[0]\n",
    "\n",
    "    df=pd.read_excel(masterlist_path)\n",
    "\n",
    "    df['state']=df['state'].str.lower().str.strip().str.replace(\" \", \"_\")\n",
    "    df['ac_name']=df['ac_name'].str.lower().str.strip().str.replace(\" \", \"_\")\n",
    "    print(df['ac_name'].nunique())\n",
    "\n",
    "    return df"
   ]
  },
  {
   "cell_type": "code",
   "execution_count": 48,
   "metadata": {},
   "outputs": [],
   "source": [
    "def attr_table_reader(state:str):\n",
    "    attr_table_path=dir_define(state=state)[1]\n",
    "\n",
    "    df=pd.read_csv(attr_table_path)\n",
    "    shp_cols=df.columns\n",
    "    shp_cols=[x.lower() for x in shp_cols]\n",
    "    df.columns=shp_cols\n",
    "\n",
    "    df['st_name']=df['st_name'].str.lower().str.strip().str.replace(\" \", \"_\")\n",
    "    df['ac_name']=df['ac_name'].str.lower().str.strip().str.replace(\" \", \"_\")\n",
    "\n",
    "    print(df['ac_name'].nunique())\n",
    "\n",
    "    return df"
   ]
  },
  {
   "cell_type": "code",
   "execution_count": 49,
   "metadata": {},
   "outputs": [
    {
     "name": "stderr",
     "output_type": "stream",
     "text": [
      "d:\\work_isb\\projects\\Voting\\.venv\\lib\\site-packages\\openpyxl\\worksheet\\_reader.py:335: UserWarning: Data Validation extension is not supported and will be removed\n",
      "  warn(msg)\n"
     ]
    },
    {
     "name": "stdout",
     "output_type": "stream",
     "text": [
      "88\n",
      "90\n",
      "                  match  score  id\n",
      "0   bharatpur-sonhat_(s     97   2\n",
      "1          manendragarh    100   8\n",
      "2           baikunthpur    100   5\n",
      "3             premnagar    100   6\n",
      "4              bhatgaon    100   3\n",
      "..                  ...    ...  ..\n",
      "84          bastar_(st)    100  84\n",
      "85            jagdalpur    100  88\n",
      "86       chitrakot_(st)    100  86\n",
      "88         bijapur_(st)    100  85\n",
      "89           konta_(st)    100  89\n",
      "\n",
      "[78 rows x 3 columns]\n"
     ]
    }
   ],
   "source": [
    "\n",
    "def map_ac():\n",
    "    master=master_reader(state='chhattisgarh')\n",
    "    shp_file=attr_table_reader(state='chhattisgarh')\n",
    "\n",
    "    # shp_file['id']=shp_file['st_name'] + shp_file['ac_name']\n",
    "    # master['id']=master['state']+master['ac_name']\n",
    "\n",
    "    result = [\n",
    "        process.extractOne(i, shp_file['ac_name'])\n",
    "        for i in master['ac_name']\n",
    "    ]\n",
    "\n",
    "    result = pd.DataFrame(result, columns=[\"match\", \"score\", \"id\"])\n",
    "    result=result[result['score']>=95]\n",
    "\n",
    "    ac_dict=dict(zip(result['match'],master['ac_name']))\n",
    "\n",
    "    print(result)\n",
    "\n",
    "    shp_file['master_ac_name']=shp_file['ac_name'].map(ac_dict)\n",
    "\n",
    "    # print(shp_file['master_ac_name'].isna().value_counts())\n",
    "\n",
    "    final_file=dir_define(state='chhattisgarh')[2].joinpath('ac_mapped.csv')\n",
    "\n",
    "    shp_file.to_csv(final_file, index=False)\n",
    "\n",
    "    \n",
    "\n",
    "map_ac()"
   ]
  }
 ],
 "metadata": {
  "kernelspec": {
   "display_name": ".venv",
   "language": "python",
   "name": "python3"
  },
  "language_info": {
   "codemirror_mode": {
    "name": "ipython",
    "version": 3
   },
   "file_extension": ".py",
   "mimetype": "text/x-python",
   "name": "python",
   "nbconvert_exporter": "python",
   "pygments_lexer": "ipython3",
   "version": "3.10.8"
  }
 },
 "nbformat": 4,
 "nbformat_minor": 2
}
