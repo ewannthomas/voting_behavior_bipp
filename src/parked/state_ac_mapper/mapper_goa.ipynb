{
 "cells": [
  {
   "cell_type": "code",
   "execution_count": null,
   "metadata": {},
   "outputs": [],
   "source": [
    " #install fuzzywuzzy\n",
    "!pip install fuzzywuzzy\n",
    "!pip install openpyxl"
   ]
  },
  {
   "cell_type": "code",
   "execution_count": 2,
   "metadata": {},
   "outputs": [
    {
     "name": "stderr",
     "output_type": "stream",
     "text": [
      "/home/tarun/.local/lib/python3.10/site-packages/fuzzywuzzy/fuzz.py:11: UserWarning: Using slow pure-python SequenceMatcher. Install python-Levenshtein to remove this warning\n",
      "  warnings.warn('Using slow pure-python SequenceMatcher. Install python-Levenshtein to remove this warning')\n"
     ]
    }
   ],
   "source": [
    "import pandas as pd\n",
    "import numpy as np\n",
    "from pathlib import Path\n",
    "\n",
    "import fuzzywuzzy as fw\n",
    "from fuzzywuzzy import process\n",
    "import openpyxl as op\n"
   ]
  },
  {
   "cell_type": "code",
   "execution_count": null,
   "metadata": {},
   "outputs": [],
   "source": [
    "# goa\n",
    "df1 = pd.read_excel('India_AC_shapefile.xlsx')\n",
    "df1.head()\n",
    "df2 = pd.read_excel('goa_masterlist.xlsx', sheet_name=0)\n",
    "# df2 = pd.read_excel('goa_masterlist.xlsx')\n",
    "df2.head()\n",
    "\n",
    "\n",
    "\n",
    "def find_fuzzy_match(name, choices):\n",
    "    if not name:\n",
    "        return None\n",
    "    result = process.extractOne(name, choices)\n",
    "    if result:\n",
    "        return result[0]\n",
    "    else:\n",
    "        return None\n",
    "\n",
    "# Create a mapping dictionary for rows in df2\n",
    "ac_name_mapping = {row['AC_NAME']: row for idx, row in df2.iterrows()}\n",
    "\n",
    "# Filter df1 for rows with ST_NAME \"GOA\" and map columns from df2 based on fuzzy matching\n",
    "df1_goa = df1[df1['ST_NAME'] == 'GOA'].copy()  # Filter rows where ST_NAME is \"GOA\"\n",
    "print(df1_goa)\n",
    "df1_goa['Downloaded'] = df1_goa['AC_NAME'].apply(lambda x: ac_name_mapping[find_fuzzy_match(x, df2['AC_NAME'])]['Downloaded'])\n",
    "df1_goa['year'] = df1_goa['AC_NAME'].apply(lambda x: ac_name_mapping[find_fuzzy_match(x, df2['AC_NAME'])]['year'])\n",
    "df1_goa['Converted'] = df1_goa['AC_NAME'].apply(lambda x: ac_name_mapping[find_fuzzy_match(x, df2['AC_NAME'])]['Converted'])\n",
    "df1_goa['cleaned'] = df1_goa['AC_NAME'].apply(lambda x: ac_name_mapping[find_fuzzy_match(x, df2['AC_NAME'])]['cleaned'])\n",
    "df1_goa['File Status'] = df1_goa['AC_NAME'].apply(lambda x: ac_name_mapping[find_fuzzy_match(x, df2['AC_NAME'])]['File Status'])\n",
    "df1_goa['Error Comment'] = df1_goa['AC_NAME'].apply(lambda x: ac_name_mapping[find_fuzzy_match(x, df2['AC_NAME'])]['Error Comment'])\n",
    "df1_goa['election'] = df1_goa['AC_NAME'].apply(lambda x: ac_name_mapping[find_fuzzy_match(x, df2['AC_NAME'])]['election'])\n",
    "# df1_goa['interim'] = df1_goa['AC_NAME'].apply(lambda x: ac_name_mapping[find_fuzzy_match(x, df2['AC_NAME'])]['interim'])\n",
    "\n",
    "# map df1_goa to df1\n",
    "# df1.loc[df1_goa.index, 'year'] = df1_goa['year']\n",
    "# df1.loc[df1_goa.index, 'Downloaded'] = df1_goa['Downloaded']\n",
    "# df1.loc[df1_goa.index, 'Converted'] = df1_goa['Converted']\n",
    "# df1.loc[df1_goa.index, 'cleaned'] = df1_goa['cleaned']\n",
    "# df1.loc[df1_goa.index, 'File Status'] = df1_goa['File Status']\n",
    "# df1.loc[df1_goa.index, 'Error Comment'] = df1_goa['Error Comment']\n",
    "\n",
    "\n",
    "# print(df1)\n",
    "df1_goa.to_excel('Goa_AC_Mapped_2017.xlsx', index=False)\n"
   ]
  },
  {
   "cell_type": "code",
   "execution_count": null,
   "metadata": {},
   "outputs": [],
   "source": [
    "# goa\n",
    "df1 = pd.read_excel('India_AC_shapefile.xlsx')\n",
    "df1.head()\n",
    "df2 = pd.read_excel('goa_masterlist.xlsx', sheet_name=1)\n",
    "# df2 = pd.read_excel('goa_masterlist.xlsx')\n",
    "df2.head()\n",
    "\n",
    "\n",
    "\n",
    "def find_fuzzy_match(name, choices):\n",
    "    if not name:\n",
    "        return None\n",
    "    result = process.extractOne(name, choices)\n",
    "    if result:\n",
    "        return result[0]\n",
    "    else:\n",
    "        return None\n",
    "\n",
    "# Create a mapping dictionary for rows in df2\n",
    "ac_name_mapping = {row['AC_NAME']: row for idx, row in df2.iterrows()}\n",
    "\n",
    "# Filter df1 for rows with ST_NAME \"GOA\" and map columns from df2 based on fuzzy matching\n",
    "df1_goa = df1[df1['ST_NAME'] == 'GOA'].copy()  # Filter rows where ST_NAME is \"GOA\"\n",
    "print(df1_goa)\n",
    "df1_goa['Downloaded'] = df1_goa['AC_NAME'].apply(lambda x: ac_name_mapping[find_fuzzy_match(x, df2['AC_NAME'])]['Downloaded'])\n",
    "df1_goa['year'] = df1_goa['AC_NAME'].apply(lambda x: ac_name_mapping[find_fuzzy_match(x, df2['AC_NAME'])]['year'])\n",
    "df1_goa['Converted'] = df1_goa['AC_NAME'].apply(lambda x: ac_name_mapping[find_fuzzy_match(x, df2['AC_NAME'])]['Converted'])\n",
    "df1_goa['cleaned'] = df1_goa['AC_NAME'].apply(lambda x: ac_name_mapping[find_fuzzy_match(x, df2['AC_NAME'])]['cleaned'])\n",
    "df1_goa['File Status'] = df1_goa['AC_NAME'].apply(lambda x: ac_name_mapping[find_fuzzy_match(x, df2['AC_NAME'])]['File Status'])\n",
    "df1_goa['Error Comment'] = df1_goa['AC_NAME'].apply(lambda x: ac_name_mapping[find_fuzzy_match(x, df2['AC_NAME'])]['Error Comment'])\n",
    "df1_goa['election'] = df1_goa['AC_NAME'].apply(lambda x: ac_name_mapping[find_fuzzy_match(x, df2['AC_NAME'])]['election'])\n",
    "# df1_goa['interim'] = df1_goa['AC_NAME'].apply(lambda x: ac_name_mapping[find_fuzzy_match(x, df2['AC_NAME'])]['interim'])\n",
    "\n",
    "# map df1_goa to df1\n",
    "# df1.loc[df1_goa.index, 'year'] = df1_goa['year']\n",
    "# df1.loc[df1_goa.index, 'Downloaded'] = df1_goa['Downloaded']\n",
    "# df1.loc[df1_goa.index, 'Converted'] = df1_goa['Converted']\n",
    "# df1.loc[df1_goa.index, 'cleaned'] = df1_goa['cleaned']\n",
    "# df1.loc[df1_goa.index, 'File Status'] = df1_goa['File Status']\n",
    "# df1.loc[df1_goa.index, 'Error Comment'] = df1_goa['Error Comment']\n",
    "\n",
    "\n",
    "# print(df1)\n",
    "df1_goa.to_excel('Goa_AC_Mapped_2022.xlsx', index=False)\n"
   ]
  },
  {
   "cell_type": "code",
   "execution_count": 5,
   "metadata": {},
   "outputs": [],
   "source": [
    "# read goa bye poll\n",
    "df1 = pd.read_excel('goa bye.xlsx')\n",
    "# drop colum Sate\n",
    "df1.drop('Sate', axis=1, inplace=True)\n",
    "df1.head()\n",
    "# save\n",
    "df1.to_excel('goa bye.xlsx', index=False)"
   ]
  },
  {
   "cell_type": "code",
   "execution_count": null,
   "metadata": {},
   "outputs": [],
   "source": [
    "# read file Goa_AC_Mapped_2017.xlsx and Goa_AC_Mapped_2022.xlsx\n",
    "df1 = pd.read_excel('Goa_AC_Mapped_2017.xlsx')\n",
    "df2 = pd.read_excel('Goa_AC_Mapped_2022.xlsx')\n",
    "df3 = pd.read_excel('Goa_AC_Mapped_bye.xlsx')\n",
    "\n",
    "#now combine all Files\n",
    "df3 = pd.concat([df1, df2, df3])\n",
    "df3.head()\n",
    "# save this\n",
    "df3.to_excel('Goa_AC_Mapped.xlsx', index=False)"
   ]
  },
  {
   "cell_type": "markdown",
   "metadata": {},
   "source": [
    "FID OBJECTID ST_CODE ST_NAME DT_CODE DIST_NAME  AC_NO  AC_NAME PC_NO PC_NAME PC_ID "
   ]
  },
  {
   "cell_type": "markdown",
   "metadata": {},
   "source": [
    "year election AC_NO  ST_NAME AC_NAME  Downloaded   Converted cleaned  File Status Error Comment  Note"
   ]
  }
 ],
 "metadata": {
  "kernelspec": {
   "display_name": "Python 3",
   "language": "python",
   "name": "python3"
  },
  "language_info": {
   "codemirror_mode": {
    "name": "ipython",
    "version": 3
   },
   "file_extension": ".py",
   "mimetype": "text/x-python",
   "name": "python",
   "nbconvert_exporter": "python",
   "pygments_lexer": "ipython3",
   "version": "3.10.12"
  },
  "orig_nbformat": 4
 },
 "nbformat": 4,
 "nbformat_minor": 2
}
