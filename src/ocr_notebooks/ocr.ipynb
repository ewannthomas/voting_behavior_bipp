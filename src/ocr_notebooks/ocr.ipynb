{
 "cells": [
  {
   "cell_type": "code",
   "execution_count": 1,
   "metadata": {},
   "outputs": [],
   "source": [
    "from pathlib import Path\n",
    "import numpy as np\n",
    "import cv2\n",
    "import pytesseract as pt"
   ]
  },
  {
   "cell_type": "code",
   "execution_count": 27,
   "metadata": {},
   "outputs": [],
   "source": [
    "#tesseract exe path\n",
    "pt.pytesseract.tesseract_cmd=Path('C:/Program Files/Tesseract-OCR/tesseract.exe')\n",
    "\n",
    "#definig directories\n",
    "dir_path=Path.cwd().parents[1]\n",
    "raw_path=dir_path.joinpath(\"data\", 'ocr')\n",
    "files=list(raw_path.glob(\"*.jpg\"))"
   ]
  },
  {
   "cell_type": "code",
   "execution_count": 104,
   "metadata": {},
   "outputs": [
    {
     "data": {
      "text/plain": [
       "-1"
      ]
     },
     "execution_count": 104,
     "metadata": {},
     "output_type": "execute_result"
    }
   ],
   "source": [
    "#reading in the image file\n",
    "img=cv2.imread(str(files[0]))\n",
    "img=cv2.cvtColor(img, cv2.COLOR_RGB2GRAY)\n",
    "\n",
    "#resiszing the image\n",
    "img=cv2.resize(img, (1000,1000))\n",
    "\n",
    "\n",
    "#rotating the image 90* left\n",
    "img=cv2.rotate(img, cv2.ROTATE_90_COUNTERCLOCKWISE)\n",
    "\n",
    "# Draw a rectangle around the region you want to crop\n",
    "start_point=(155,365) # w*h as x increaes line become smaller\n",
    "end_point=(230, 650) # w * h as x increases line increases\n",
    "color=(0, 0, 255)\n",
    "thickness=2\n",
    "cropped=cv2.rectangle(img,start_point, end_point, color, thickness)\n",
    "\n",
    "# Crop the image to the rectangle\n",
    "cropped = img[365:650, 155:230]\n",
    "\n",
    "cropped=cv2.resize(cropped, (250,500))\n",
    "cropped=cv2.medianBlur(cropped, 5)\n",
    "cropped=cv2.bilateralFilter(cropped, 500, sigmaColor=10, sigmaSpace=10)\n",
    "\n",
    "#color thresholding to make only black==1 and white==0 in the image\n",
    "# ret, th=cv2.threshold(cropped, 0, 255, cv2.THRESH_BINARY + cv2.THRESH_OTSU)\n",
    "# kernel=np.ones((3, 3),np.uint8)\n",
    "# cropped = cv2.morphologyEx(th, cv2.MORPH_CROSS, kernel, iterations=1)\n",
    "\n",
    "\n",
    "cv2.imshow('img', cropped)\n",
    "cv2.waitKey(0)"
   ]
  },
  {
   "cell_type": "code",
   "execution_count": 105,
   "metadata": {},
   "outputs": [
    {
     "data": {
      "text/plain": [
       "''"
      ]
     },
     "execution_count": 105,
     "metadata": {},
     "output_type": "execute_result"
    }
   ],
   "source": [
    "#initializing pytesseract\n",
    "config=r'--oem 1 --psm 7'\n",
    "\n",
    "text = pt.image_to_string(cropped, lang='hin', config=config)\n",
    "text"
   ]
  }
 ],
 "metadata": {
  "kernelspec": {
   "display_name": ".venv",
   "language": "python",
   "name": "python3"
  },
  "language_info": {
   "codemirror_mode": {
    "name": "ipython",
    "version": 3
   },
   "file_extension": ".py",
   "mimetype": "text/x-python",
   "name": "python",
   "nbconvert_exporter": "python",
   "pygments_lexer": "ipython3",
   "version": "3.10.8"
  },
  "orig_nbformat": 4
 },
 "nbformat": 4,
 "nbformat_minor": 2
}
