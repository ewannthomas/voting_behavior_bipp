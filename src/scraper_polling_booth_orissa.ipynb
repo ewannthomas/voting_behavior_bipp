{
 "cells": [
  {
   "cell_type": "code",
   "execution_count": 3,
   "metadata": {},
   "outputs": [
    {
     "name": "stdout",
     "output_type": "stream",
     "text": [
      "Defaulting to user installation because normal site-packages is not writeable\n",
      "Collecting beautifulsoup4\n",
      "  Downloading beautifulsoup4-4.12.2-py3-none-any.whl (142 kB)\n",
      "\u001b[2K     \u001b[90m━━━━━━━━━━━━━━━━━━━━━━━━━━━━━━━━━━━━━━━\u001b[0m \u001b[32m143.0/143.0 KB\u001b[0m \u001b[31m1.2 MB/s\u001b[0m eta \u001b[36m0:00:00\u001b[0ma \u001b[36m0:00:01\u001b[0m\n",
      "\u001b[?25hCollecting soupsieve>1.2\n",
      "  Downloading soupsieve-2.4.1-py3-none-any.whl (36 kB)\n",
      "Installing collected packages: soupsieve, beautifulsoup4\n",
      "Successfully installed beautifulsoup4-4.12.2 soupsieve-2.4.1\n",
      "Defaulting to user installation because normal site-packages is not writeable\n",
      "Requirement already satisfied: requests in /usr/lib/python3/dist-packages (2.25.1)\n"
     ]
    }
   ],
   "source": [
    "!pip install beautifulsoup4\n",
    "!pip install requests\n"
   ]
  },
  {
   "cell_type": "code",
   "execution_count": 1,
   "metadata": {},
   "outputs": [
    {
     "ename": "AttributeError",
     "evalue": "'NoneType' object has no attribute 'find_all'",
     "output_type": "error",
     "traceback": [
      "\u001b[0;31m---------------------------------------------------------------------------\u001b[0m",
      "\u001b[0;31mAttributeError\u001b[0m                            Traceback (most recent call last)",
      "\u001b[1;32m/home/tarun/isb/webscraping/scraper.ipynb Cell 2\u001b[0m line \u001b[0;36m1\n\u001b[1;32m     <a href='vscode-notebook-cell:/home/tarun/isb/webscraping/scraper.ipynb#W1sZmlsZQ%3D%3D?line=9'>10</a>\u001b[0m table \u001b[39m=\u001b[39m soup\u001b[39m.\u001b[39mfind(\u001b[39m\"\u001b[39m\u001b[39mtable\u001b[39m\u001b[39m\"\u001b[39m, class_\u001b[39m=\u001b[39m\u001b[39m\"\u001b[39m\u001b[39mtableizer-table\u001b[39m\u001b[39m\"\u001b[39m)\n\u001b[1;32m     <a href='vscode-notebook-cell:/home/tarun/isb/webscraping/scraper.ipynb#W1sZmlsZQ%3D%3D?line=11'>12</a>\u001b[0m assembly_constituencies \u001b[39m=\u001b[39m []\n\u001b[0;32m---> <a href='vscode-notebook-cell:/home/tarun/isb/webscraping/scraper.ipynb#W1sZmlsZQ%3D%3D?line=13'>14</a>\u001b[0m \u001b[39mfor\u001b[39;00m row \u001b[39min\u001b[39;00m table\u001b[39m.\u001b[39;49mfind_all(\u001b[39m\"\u001b[39m\u001b[39mtr\u001b[39m\u001b[39m\"\u001b[39m)[\u001b[39m1\u001b[39m:]:\n\u001b[1;32m     <a href='vscode-notebook-cell:/home/tarun/isb/webscraping/scraper.ipynb#W1sZmlsZQ%3D%3D?line=14'>15</a>\u001b[0m     cells \u001b[39m=\u001b[39m row\u001b[39m.\u001b[39mfind_all(\u001b[39m\"\u001b[39m\u001b[39mtd\u001b[39m\u001b[39m\"\u001b[39m)\n\u001b[1;32m     <a href='vscode-notebook-cell:/home/tarun/isb/webscraping/scraper.ipynb#W1sZmlsZQ%3D%3D?line=15'>16</a>\u001b[0m     \u001b[39mfor\u001b[39;00m cell \u001b[39min\u001b[39;00m cells:\n",
      "\u001b[0;31mAttributeError\u001b[0m: 'NoneType' object has no attribute 'find_all'"
     ]
    }
   ],
   "source": [
    "import requests\n",
    "from bs4 import BeautifulSoup\n",
    "\n",
    "url = \"https://www.elections.in/orissa/polling-booth/\"\n",
    "\n",
    "response = requests.get(url)\n",
    "\n",
    "soup = BeautifulSoup(response.content, \"html.parser\")\n",
    "\n",
    "table = soup.find(\"table\", class_=\"tableizer-table\")\n",
    "\n",
    "assembly_constituencies = []\n",
    "\n",
    "for row in table.find_all(\"tr\")[1:]:\n",
    "    cells = row.find_all(\"td\")\n",
    "    for cell in cells:\n",
    "        link = cell.find(\"a\")\n",
    "        if link:\n",
    "            constituency_name = link.text\n",
    "            constituency_url = link[\"href\"]\n",
    "            assembly_constituencies.append((constituency_name, constituency_url))\n",
    "\n",
    "polling_booths = []\n",
    "cnt = 0\n",
    "\n",
    "for constituency_name, constituency_url in assembly_constituencies:\n",
    "    url = constituency_url\n",
    "    response = requests.get(url)\n",
    "    soup = BeautifulSoup(response.content, \"html.parser\")\n",
    "    table = soup.find(\"table\", class_=\"tableizer-table\")\n",
    "\n",
    "    for row in table.find_all(\"tr\")[1:]:\n",
    "        cells = row.find_all(\"td\")\n",
    "        polling_booth_number = cells[0].text.strip()\n",
    "        polling_booth_area = cells[1].text.strip()\n",
    "        polling_booth_address = cells[2].text.strip()\n",
    "        polling_booths.append((constituency_name,polling_booth_number, polling_booth_area, polling_booth_address))\n",
    "\n",
    "    import pandas as pd\n",
    "    df = pd.DataFrame(polling_booths, columns=['constituency_name','polling_booth_number', 'polling_booth_area', 'polling_booth_address'])\n",
    "    df.to_csv('polling_booths.csv', index=False, encoding='utf-8')\n",
    "\n",
    "\n"
   ]
  }
 ],
 "metadata": {
  "kernelspec": {
   "display_name": "Python 3",
   "language": "python",
   "name": "python3"
  },
  "language_info": {
   "codemirror_mode": {
    "name": "ipython",
    "version": 3
   },
   "file_extension": ".py",
   "mimetype": "text/x-python",
   "name": "python",
   "nbconvert_exporter": "python",
   "pygments_lexer": "ipython3",
   "version": "3.10.12"
  },
  "orig_nbformat": 4
 },
 "nbformat": 4,
 "nbformat_minor": 2
}
